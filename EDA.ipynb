{
 "cells": [
  {
   "cell_type": "code",
   "execution_count": 1,
   "metadata": {},
   "outputs": [],
   "source": [
    "import pandas as pd"
   ]
  },
  {
   "cell_type": "code",
   "execution_count": null,
   "metadata": {},
   "outputs": [],
   "source": [
    "questions_df = pd.read_csv(r\"C:\\Users\\Saiganne\\Documents\\AI projects\\stacksample\\Questions.csv\",encoding=\"ISO-8859-1\")\n",
    "answers_df = pd.read_csv(r\"C:\\Users\\Saiganne\\Documents\\AI projects\\stacksample\\Answers.csv\",encoding=\"ISO-8859-1\")\n",
    "tags_df= pd.read_csv(r\"C:\\Users\\Saiganne\\Documents\\AI projects\\stacksample\\Tags.csv\",encoding=\"ISO-8859-1\")\n",
    "\n",
    "#print(result)"
   ]
  }
 ],
 "metadata": {
  "kernelspec": {
   "display_name": "Python 3",
   "language": "python",
   "name": "python3"
  },
  "language_info": {
   "codemirror_mode": {
    "name": "ipython",
    "version": 3
   },
   "file_extension": ".py",
   "mimetype": "text/x-python",
   "name": "python",
   "nbconvert_exporter": "python",
   "pygments_lexer": "ipython3",
   "version": "3.7.1"
  }
 },
 "nbformat": 4,
 "nbformat_minor": 2
}
